{
 "cells": [
  {
   "cell_type": "markdown",
   "metadata": {},
   "source": [
    "# Physics 574 - Assignment 4\n",
    "# Alejandro Salazar Lobos - ID: 1517982"
   ]
  },
  {
   "cell_type": "markdown",
   "metadata": {},
   "source": [
    "2."
   ]
  },
  {
   "cell_type": "markdown",
   "metadata": {},
   "source": [
    "The PMTs are triggered $500$ times in a second. This counting is achieved by connecting the PMT to a counter unit, and letting it run for some time and then extract the rate $500 \\textrm{Hz}$ by division. We could assume that the coincidence unit to which we are connecting the PMTs has a discrimination time window of $1 \\eta\\textrm{s}$, i.e. it can distinguish between two triggers coming from the same source as long as they are separated by at most 1 $\\eta$s. But, not to be optimistic, I will consider the size of the discrimination time window to be $100 \\eta\\textrm{s}$. This makes sense, since two triggers coming from the same source that fall inside a $100 \\eta\\textrm{s}$ window when looking at coincidences between triggers coming from other sources, would be counted as one trigger."
   ]
  },
  {
   "cell_type": "markdown",
   "metadata": {},
   "source": [
    "We create a simulation. We first notice that there are $10^{7}$ of the $100 \\eta\\textrm{s}$ windows in $1$ second. It is reasonable to assume that the counter can only look at a 100 $\\eta$s window at a time, one after the other, and there cannot be any overlap between them (that would lead to double counts). We can create, for one PMT, an array of $500$ integer numbers (representing the $500$ triggers in $500$ of the $10^7$ different windows) between $0$ and $10^7$, randomly separated and never repeated. We create $9999$ arrays for the other PMTs using the same method. Then compare these numbers between arrays; if they are equal (i.e. if they fall in the same time window), then they count as a coincidence."
   ]
  },
  {
   "cell_type": "markdown",
   "metadata": {},
   "source": [
    "The probability of $n \\geq 2$ of these PMTs to be triggered in coincidence will be given by the coincidence counts of a certain $100 \\eta\\textrm{s}$ window divided by the total coincidence counts (of all the $100 \\eta\\textrm{s}$ windows together). In order to make the results more significant, we look the process described in these last two paragraphs several times (that is with loops, and that will depend on the running time).\n",
    "\n",
    "Now the code:"
   ]
  },
  {
   "cell_type": "code",
   "execution_count": 161,
   "metadata": {},
   "outputs": [
    {
     "data": {
      "text/plain": [
       "'\\nIN ORDER TO SAVE TIME, I AM SAVING DATA IN TXT FILES.\\n\\n# Create a list (a text file, actually) where to store the tag/number of the 100ns windows triggered.\\n\\nwindowStore1 = open(\\'windowStore1.txt\\', \\'w\\')\\nwindowStore2 = open(\\'windowStore2.txt\\', \\'w\\')\\nwindowStore3 = open(\\'windowStore3.txt\\', \\'w\\')\\nwindowStore4 = open(\\'windowStore4.txt\\', \\'w\\')\\n\\n# Create a loop to generate 10,000 arrays with 500 integer numbers randomly generated between 0 and 10^7.\\n# The numbers will be store in \\'windowStore.txt\\'\\n\\n# Define a function to create an array of 500 random integer numbers between 0 and 10^7, not repeated.\\ndef numberGenerator(n):\\n    return np.random.randint(0, 10**7, n)\\n\\nfor i in range(0, 10000): # We have 10 000 PMTs\\n    # Create 500 triggers in one second.\\n    windowsTriggered = numberGenerator(500)\\n    for j in range(0, 500):\\n        if i <= 2499:\\n            windowStore1.write(str(windowsTriggered[j]) + \"\\n\")\\n        elif i > 2499 and i <= 4999:\\n            windowStore2.write(str(windowsTriggered[j]) + \"\\n\")\\n        elif i > 4999 and i <= 7499:\\n            windowStore3.write(str(windowsTriggered[j]) + \"\\n\")\\n        elif i > 7499 and i <= 9999:\\n            windowStore4.write(str(windowsTriggered[j]) + \"\\n\")\\n'"
      ]
     },
     "execution_count": 161,
     "metadata": {},
     "output_type": "execute_result"
    }
   ],
   "source": [
    "import numpy as np\n",
    "import matplotlib.pyplot as plt\n",
    "\n",
    "\"\"\"\n",
    "IN ORDER TO SAVE TIME, I AM SAVING DATA IN TXT FILES.\n",
    "\n",
    "# Create a list (a text file, actually) where to store the tag/number of the 100ns windows triggered.\n",
    "\n",
    "windowStore1 = open('windowStore1.txt', 'w')\n",
    "windowStore2 = open('windowStore2.txt', 'w')\n",
    "windowStore3 = open('windowStore3.txt', 'w')\n",
    "windowStore4 = open('windowStore4.txt', 'w')\n",
    "\n",
    "# Create a loop to generate 10,000 arrays with 500 integer numbers randomly generated between 0 and 10^7.\n",
    "# The numbers will be store in 'windowStore.txt'\n",
    "\n",
    "# Define a function to create an array of 500 random integer numbers between 0 and 10^7, not repeated.\n",
    "def numberGenerator(n):\n",
    "    return np.random.randint(0, 10**7, n)\n",
    "\n",
    "for i in range(0, 10000): # We have 10 000 PMTs\n",
    "    # Create 500 triggers in one second.\n",
    "    windowsTriggered = numberGenerator(500)\n",
    "    for j in range(0, 500):\n",
    "        if i <= 2499:\n",
    "            windowStore1.write(str(windowsTriggered[j]) + \"\\n\")\n",
    "        elif i > 2499 and i <= 4999:\n",
    "            windowStore2.write(str(windowsTriggered[j]) + \"\\n\")\n",
    "        elif i > 4999 and i <= 7499:\n",
    "            windowStore3.write(str(windowsTriggered[j]) + \"\\n\")\n",
    "        elif i > 7499 and i <= 9999:\n",
    "            windowStore4.write(str(windowsTriggered[j]) + \"\\n\")\n",
    "\"\"\""
   ]
  },
  {
   "cell_type": "code",
   "execution_count": 57,
   "metadata": {},
   "outputs": [],
   "source": [
    "data1 = list(np.loadtxt('windowStore1.txt', delimiter = ','))\n",
    "data2 = list(np.loadtxt('windowStore2.txt', delimiter = ','))\n",
    "data3 = list(np.loadtxt('windowStore3.txt', delimiter = ','))\n",
    "data4 = list(np.loadtxt('windowStore4.txt', delimiter = ','))\n",
    "\n",
    "# Merge into single list.\n",
    "data = data1 + data2 + data3 + data4"
   ]
  },
  {
   "cell_type": "code",
   "execution_count": 158,
   "metadata": {},
   "outputs": [
    {
     "ename": "KeyboardInterrupt",
     "evalue": "",
     "output_type": "error",
     "traceback": [
      "\u001b[1;31m---------------------------------------------------------------------------\u001b[0m",
      "\u001b[1;31mKeyboardInterrupt\u001b[0m                         Traceback (most recent call last)",
      "\u001b[1;32m<ipython-input-158-fa33f66e483c>\u001b[0m in \u001b[0;36m<module>\u001b[1;34m()\u001b[0m\n\u001b[0;32m     47\u001b[0m         \u001b[0mk\u001b[0m \u001b[1;33m+=\u001b[0m \u001b[0mrate\u001b[0m\u001b[1;33m\u001b[0m\u001b[0m\n\u001b[0;32m     48\u001b[0m     \u001b[1;32mfor\u001b[0m \u001b[0mj\u001b[0m \u001b[1;32min\u001b[0m \u001b[0mrange\u001b[0m\u001b[1;33m(\u001b[0m\u001b[0mk\u001b[0m\u001b[1;33m,\u001b[0m \u001b[0mlen\u001b[0m\u001b[1;33m(\u001b[0m\u001b[0mdata\u001b[0m\u001b[1;33m)\u001b[0m\u001b[1;33m)\u001b[0m\u001b[1;33m:\u001b[0m\u001b[1;33m\u001b[0m\u001b[0m\n\u001b[1;32m---> 49\u001b[1;33m         \u001b[1;32mif\u001b[0m \u001b[0mdata\u001b[0m\u001b[1;33m[\u001b[0m\u001b[0mi\u001b[0m\u001b[1;33m]\u001b[0m \u001b[1;33m==\u001b[0m \u001b[0mdata\u001b[0m\u001b[1;33m[\u001b[0m\u001b[0mj\u001b[0m\u001b[1;33m]\u001b[0m\u001b[1;33m:\u001b[0m\u001b[1;33m\u001b[0m\u001b[0m\n\u001b[0m\u001b[0;32m     50\u001b[0m             \u001b[0mreps\u001b[0m \u001b[1;33m=\u001b[0m \u001b[0mdata\u001b[0m\u001b[1;33m[\u001b[0m\u001b[0mi\u001b[0m\u001b[1;33m]\u001b[0m\u001b[1;33m\u001b[0m\u001b[0m\n\u001b[0;32m     51\u001b[0m             \u001b[1;32mif\u001b[0m \u001b[0mdata\u001b[0m\u001b[1;33m[\u001b[0m\u001b[0mi\u001b[0m\u001b[1;33m]\u001b[0m \u001b[1;32min\u001b[0m \u001b[0malreadyCounted\u001b[0m\u001b[1;33m:\u001b[0m\u001b[1;33m\u001b[0m\u001b[0m\n",
      "\u001b[1;31mKeyboardInterrupt\u001b[0m: "
     ]
    }
   ],
   "source": [
    "#print(data[4999999])\n",
    "\n",
    "\"\"\"\n",
    "THE FOLLOWING IS A TEST I MADE BEFORE SETTING UP THE BIGGER CODE.\n",
    "\n",
    "a = [1, 2, 3, 2, 5, 3, 2, 8, 3] # Imitates 3 PMTs with noise rate 2 Hz\n",
    "\n",
    "# Check out for the repetition of numbers.\n",
    "\n",
    "alreadyCounted = [0] # to avoid double counts.\n",
    "counts = []\n",
    "\n",
    "k = 0 # For book keeping of the PMTs in the loop below.\n",
    "rate = 3\n",
    "for i in range(0, len(a) - rate):\n",
    "    count = 0\n",
    "    global k\n",
    "    if i % rate == 0:\n",
    "        k += rate\n",
    "    reps = 0\n",
    "    for j in range(k, len(a)):\n",
    "        if a[i] == a[j]:\n",
    "            reps = a[i]\n",
    "            if a[i] in alreadyCounted:\n",
    "                continue\n",
    "            else:\n",
    "                 count += 1\n",
    "        print(count)\n",
    "    if reps != 0 and reps not in alreadyCounted:\n",
    "        alreadyCounted.append(reps)\n",
    "    if count != 0:\n",
    "        counts.append(count + 1)\n",
    "print(counts)\n",
    "print(alreadyCounted)\n",
    "\n",
    "\"\"\"     \n",
    "# Check out for repetition of numbers.\n",
    "\n",
    "alreadyCounted = [0] # to avoid double counts.\n",
    "counts = []\n",
    "countsTxt = open('counts.txt', 'w')\n",
    "        \n",
    "k = 0 # for book keeping of the PMTs in the loop below.\n",
    "rate= 500 # 500 hundred noise triggers per PMT.\n",
    "for i in range(0, len(data) - rate):\n",
    "    count = 0\n",
    "    global k\n",
    "    if i % rate == 0:\n",
    "        k += rate\n",
    "    for j in range(k, len(data)):\n",
    "        if data[i] == data[j]:\n",
    "            reps = data[i]\n",
    "            if data[i] in alreadyCounted:\n",
    "                continue\n",
    "            else:\n",
    "                 count += 1\n",
    "    if reps != 0 and reps not in alreadyCounted:\n",
    "        alreadyCounted.append(reps)\n",
    "    if count != 0:\n",
    "        counts.append(count + 1)\n",
    "        countsTxt.write(str(count + 1) + \"\\n\")\n",
    "                    "
   ]
  },
  {
   "cell_type": "markdown",
   "metadata": {},
   "source": [
    "I had to interrupt the kernel, otherwise I would have a hard time testing other parts of the code and submitting the assignment. However, I am very confident that the code does the job, as I extensively tested it in simpler cases. The rest of the code looks as follows:"
   ]
  },
  {
   "cell_type": "code",
   "execution_count": null,
   "metadata": {},
   "outputs": [],
   "source": [
    "# Now we determine the probabilities.\n",
    "n = np.linspace(0, 30, 30)\n",
    "probabilites = []\n",
    "coincidences = list(np.loadtxt('counts.txt', delimiter = ',')) # this are the times that PMTs triggered simultaneously.\n",
    "\n",
    "for i in n:\n",
    "    probCount = 0\n",
    "    for j in coincidences:\n",
    "        if j == i:\n",
    "            probCount += 1\n",
    "    probabilites.append(probCount/len(coincidences))         "
   ]
  },
  {
   "cell_type": "code",
   "execution_count": null,
   "metadata": {},
   "outputs": [],
   "source": [
    "# Make the plot.\n",
    "plt.plot(n, probabilities)\n",
    "plt.yscale('log')"
   ]
  },
  {
   "cell_type": "markdown",
   "metadata": {},
   "source": [
    "-------------------------------------------------\n",
    "3. The effect of digitalization rate\n",
    "\n",
    "A sensor emits a puls that is $\\sigma = 1.3 \\textrm{ns}$ wide, with variable pulse height $A$ distributed uniformly between 0-10 V. The pulse is a Gaussian:\n",
    "\n",
    "$$ V(t | t_0, \\sigma^2) = A e^{- \\frac{(t - t_0)^2}{2 \\sigma^2}} \\; (*). $$\n",
    "\n",
    "$t_0$ are random and uniformly distributed between 0 and 20 nanoseconds."
   ]
  },
  {
   "cell_type": "markdown",
   "metadata": {},
   "source": [
    "a.\n",
    "\n",
    "The digitizer is reading the amplitude at 250 MHz in time intervals of t = 0, 4, 8, 12, 16, ... ns with resolution of 10/4096 V.\n"
   ]
  },
  {
   "cell_type": "code",
   "execution_count": 328,
   "metadata": {},
   "outputs": [
    {
     "data": {
      "text/plain": [
       "Text(0.5,0,'Time [ns]')"
      ]
     },
     "execution_count": 328,
     "metadata": {},
     "output_type": "execute_result"
    },
    {
     "data": {
      "image/png": "[encoded data removed]",
      "text/plain": [
       "<Figure size 432x288 with 1 Axes>"
      ]
     },
     "metadata": {},
     "output_type": "display_data"
    }
   ],
   "source": [
    "# Define the voltage function and generate input information.\n",
    "\n",
    "\"\"\"\n",
    "def Voltage(t):\n",
    "    A = np.random.uniform(0, 10, 1)\n",
    "    t0 = np.random.uniform(0, 20 * 10**(-9), 1)\n",
    "    sigma = 1.3 * 10**(-9)\n",
    "    V = A * np.exp(-(t - t0)**2 / (2* sigma**2))\n",
    "    return V, A, t0\n",
    "\"\"\"\n",
    "\n",
    "def Voltage(t, A, t0):\n",
    "    sigma = 1.3 * 10**(-9)\n",
    "    V = A * np.exp(-(t - t0)**2 / (2* sigma**2))\n",
    "    return [V, A, t0]\n",
    "\n",
    "t = np.linspace(0, 88 * 10**(-9), 22)\n",
    "A = np.random.uniform(0, 10, 22)\n",
    "t0 = np.random.uniform(0, 20 * 10**(-9), 22)\n",
    "\n",
    "# NOTE: I have made a shortcut here, because of the time that it would take to \n",
    "# run all the iterations. Instead of looking at a lot of pulses, I will be looking\n",
    "# at how they would get smaller over time for different initial amplitudes A and\n",
    "# initial times t0.\n",
    "\n",
    "[V, A, t0] = Voltage(t, A, t0)\n",
    "\n",
    "# Take a look at the results.\n",
    "plt.plot(t, V, '.')\n",
    "plt.yscale('log')\n",
    "plt.ylabel('Voltage measurement [V]')\n",
    "plt.xlabel('Time [ns]')"
   ]
  },
  {
   "cell_type": "code",
   "execution_count": 335,
   "metadata": {},
   "outputs": [
    {
     "ename": "KeyboardInterrupt",
     "evalue": "",
     "output_type": "error",
     "traceback": [
      "\u001b[1;31m---------------------------------------------------------------------------\u001b[0m",
      "\u001b[1;31mKeyboardInterrupt\u001b[0m                         Traceback (most recent call last)",
      "\u001b[1;32m<ipython-input-335-7a964881286a>\u001b[0m in \u001b[0;36m<module>\u001b[1;34m()\u001b[0m\n\u001b[0;32m     25\u001b[0m         \u001b[1;32mfor\u001b[0m \u001b[0mti\u001b[0m \u001b[1;32min\u001b[0m \u001b[0minitialTimes\u001b[0m\u001b[1;33m:\u001b[0m\u001b[1;33m\u001b[0m\u001b[0m\n\u001b[0;32m     26\u001b[0m             \u001b[0mVout_guess\u001b[0m \u001b[1;33m=\u001b[0m \u001b[0mVoltage\u001b[0m\u001b[1;33m(\u001b[0m\u001b[0mt\u001b[0m\u001b[1;33m[\u001b[0m\u001b[0mv\u001b[0m\u001b[1;33m]\u001b[0m\u001b[1;33m,\u001b[0m \u001b[0ma\u001b[0m\u001b[1;33m,\u001b[0m \u001b[0mti\u001b[0m\u001b[1;33m)\u001b[0m\u001b[1;33m[\u001b[0m\u001b[1;36m0\u001b[0m\u001b[1;33m]\u001b[0m\u001b[1;33m\u001b[0m\u001b[0m\n\u001b[1;32m---> 27\u001b[1;33m             \u001b[0mGuessVoltages\u001b[0m\u001b[1;33m.\u001b[0m\u001b[0mwrite\u001b[0m\u001b[1;33m(\u001b[0m\u001b[0mstr\u001b[0m\u001b[1;33m(\u001b[0m\u001b[0mabs\u001b[0m\u001b[1;33m(\u001b[0m\u001b[0mV\u001b[0m\u001b[1;33m[\u001b[0m\u001b[0mv\u001b[0m\u001b[1;33m]\u001b[0m \u001b[1;33m-\u001b[0m \u001b[0mVout_guess\u001b[0m\u001b[1;33m)\u001b[0m\u001b[1;33m)\u001b[0m \u001b[1;33m+\u001b[0m \u001b[1;34m\"\\n\"\u001b[0m\u001b[1;33m)\u001b[0m\u001b[1;33m\u001b[0m\u001b[0m\n\u001b[0m\u001b[0;32m     28\u001b[0m     \u001b[0mVguess\u001b[0m \u001b[1;33m=\u001b[0m \u001b[0mnp\u001b[0m\u001b[1;33m.\u001b[0m\u001b[0mloadtxt\u001b[0m\u001b[1;33m(\u001b[0m\u001b[1;34m'GuessVoltages.txt'\u001b[0m\u001b[1;33m,\u001b[0m \u001b[0mdelimiter\u001b[0m \u001b[1;33m=\u001b[0m \u001b[1;34m','\u001b[0m\u001b[1;33m)\u001b[0m\u001b[1;33m\u001b[0m\u001b[0m\n\u001b[0;32m     29\u001b[0m     \u001b[0mVguess_min\u001b[0m \u001b[1;33m=\u001b[0m \u001b[0mnp\u001b[0m\u001b[1;33m.\u001b[0m\u001b[0mmin\u001b[0m\u001b[1;33m(\u001b[0m\u001b[0mVguess\u001b[0m\u001b[1;33m)\u001b[0m\u001b[1;33m\u001b[0m\u001b[0m\n",
      "\u001b[1;31mKeyboardInterrupt\u001b[0m: "
     ]
    }
   ],
   "source": [
    "# Create the algorithm for the reconstruction.\n",
    "\n",
    "# FIRST: we generate guesses for the amplitudes (respecting the resolution 10/4096) and\n",
    "# initial times t0.\n",
    "\n",
    "# Generate and store amplitudes.\n",
    "AmplitudesTxt = open('Amplitudes.txt', 'w')\n",
    "\n",
    "for i in range(4096):\n",
    "    AmplitudesTxt.write(str(10/4096 * i) + \"\\n\")\n",
    "    \n",
    "amplitudes_guess = np.loadtxt('Amplitudes.txt', delimiter = ',')\n",
    "\n",
    "# Generate and store the times t0.\n",
    "initialTimes_guess = np.linspace(0, 20 * 10**(-9), 4096)\n",
    "\n",
    "# SECOND: use the function Voltage to generate reconstructed voltages based on the\n",
    "# guesses for the amplitude and initial times and compare them to the read output.\n",
    "\n",
    "selectedVoutIndices = open('VoutIndices.txt', 'w')\n",
    "\n",
    "for v in range(len(V)):\n",
    "    GuessVoltages = open('GuessVoltages.txt', 'w')\n",
    "    for a in amplitudes:\n",
    "        for ti in initialTimes:\n",
    "            Vout_guess = Voltage(t[v], a, ti)[0]\n",
    "            GuessVoltages.write(str(abs(V[v] - Vout_guess)) + \"\\n\")\n",
    "    Vguess = np.loadtxt('GuessVoltages.txt', delimiter = ',')\n",
    "    Vguess_min = np.min(Vguess)\n",
    "    # Extract the index.\n",
    "    for i in range(len(Vguess)):\n",
    "        if Vguess[i] == Vguess_min:\n",
    "            selectedVoutIndices.write(str(i) + \"\\n\")"
   ]
  },
  {
   "cell_type": "markdown",
   "metadata": {},
   "source": [
    "Again, the time it takes to run all the iterations is giving me problems, so I will outline in the following code lines what comes next."
   ]
  },
  {
   "cell_type": "code",
   "execution_count": null,
   "metadata": {},
   "outputs": [],
   "source": [
    "# Now we generate the histogram.\n",
    "\n",
    "# Bring back the chose amplitudes and t0s.\n",
    "indices = np.loadtxt('VoutIndices.txt', delimiter = ',')\n",
    "selectedAmplitudes = []; selectedt0s = [];\n",
    "\n",
    "for i in indices:\n",
    "    selectedAmplitudes.append(amplitudes_guess[i])\n",
    "    selectedt0s.append(initialTimes_guess[i])\n",
    "    \n",
    "amplitudesDiff = abs(np.subtract(A, selectedAmplitudes))\n",
    "t0Diff = abs(np.subtract(t0, selectedt0))"
   ]
  },
  {
   "cell_type": "code",
   "execution_count": null,
   "metadata": {},
   "outputs": [],
   "source": [
    "# Create the histograms.\n",
    "plt.histogram(amplitudesDiff, bins = 10, color = 'blue', edgecolor = 'black')\n",
    "plt.yaxis('Ocurrence')\n",
    "plt.xaxis('Differences in input vs reconstructed amplitudes')"
   ]
  },
  {
   "cell_type": "code",
   "execution_count": null,
   "metadata": {},
   "outputs": [],
   "source": [
    "plt.histogram(t0Diff, bins = 10, color = 'red', edgecolor = 'black')\n",
    "plt.yaxis('Ocurrence')\n",
    "plt.xaxis(r'Differences in input vs reconstruction initial times $t_0$')"
   ]
  },
  {
   "cell_type": "markdown",
   "metadata": {},
   "source": [
    "b. Now we conside the case in which the pulses are fed into a shaping amplifier. We consider a loop described by the following equations.\n",
    "\n",
    "$$ V_{in}(t) = i_1 R_1 + \\frac{q_1 - q_2}{C_1}$$\n",
    "\n",
    "$$ 0 = \\frac{q_1 - q_2}{C_1} + i_2 R_2$$\n",
    "\n",
    "$$ i_3 R_3 = \\frac{q_2 - q_3}{C_2}$$,\n",
    "\n",
    "where $i_i = \\frac{dq_i}{dt}$, and $R_1 = R_2 = 37 \\Omega$, $R_3 = 100 \\Omega$, $C_1 = 2 \\times 10^{-9} \\textrm{F}$, $C_2 = 100 \\times 10^{-12} \\textrm{F}$, and $V = 10 \\textrm{V}$."
   ]
  },
  {
   "cell_type": "code",
   "execution_count": 423,
   "metadata": {},
   "outputs": [
    {
     "name": "stdout",
     "output_type": "stream",
     "text": [
      "[8.35786268e-08 4.03926968e-18 5.16930067e-10 3.29760867e+01\n",
      " 5.19672565e+01 6.96075134e-04 7.94047634e-28 5.46075154e-02\n",
      " 1.12404071e-23 1.51665700e+01]\n",
      "10.016521686944527\n"
     ]
    }
   ],
   "source": [
    "# First, scale the amplitude.\n",
    "t0 = np.random.uniform(0, 20 * 10**(-9), 10)\n",
    "t = 0\n",
    "A = 10**2\n",
    "print(Voltage(t, A, t0)[0])\n",
    "print(np.mean(Voltage(t, A, t0)[0]))"
   ]
  },
  {
   "cell_type": "code",
   "execution_count": 498,
   "metadata": {},
   "outputs": [],
   "source": [
    "# Use ODEINT.\n",
    "\n",
    "from scipy.integrate import odeint\n",
    "\n",
    "# Define the model function(s) to integrate.\n",
    "\n",
    "def EqSys(q, t):\n",
    "    R1 = 37; R2 = 37; R3 = 100;\n",
    "    C1 = 2 * 10**(-9); C2 = 100 * 10**(-12);\n",
    "    \n",
    "    sigma = 1.3 * 10**(-9)\n",
    "    t0 = np.random.uniform(0, 20 * 10**(-9), 1)\n",
    "    A = 10**2; # I would use a bunch of different amplitudes, but I will not have\n",
    "               # time to finish the problem if I do that.\n",
    "    V = A * np.exp(-(t - t0)**2 / (2 * sigma**2))\n",
    "    q1 = q[0]; q2 = q[1]; q3 = q[2];\n",
    "    \n",
    "    i1 = (V - (q1 - q2)/C1) / R1\n",
    "    i2 = (-(q1 - q2)/C2) / R2\n",
    "    i3 = ((q2 - q3)/C2) / R3\n",
    "    \n",
    "    i = [i1, i2, i3]\n",
    "    return (i)\n",
    "\n",
    "t = list(np.linspace(0, 10**(-9), 10)) # This is just a time interval that I chose randomly.\n",
    "\n",
    "q10 = 10; q20 = 20; q30 = 15; # these are the initial conditions,\n",
    "                           # which are not provided but can be set up\n",
    "                           # by hand.\n",
    "\n",
    "q = odeint(EqSys, [q10, q20, q30], t)\n",
    "\n",
    "q1 = q[:, 0]; q2 = q[:, 1]; q3 = q[:, 2];\n",
    "\n",
    "dqdt = [];\n",
    "\n",
    "for i in range(len(t)):\n",
    "    dqdt.append(EqSys([q1[i], q2[i], q3[i]], t[i]))\n"
   ]
  },
  {
   "cell_type": "code",
   "execution_count": 509,
   "metadata": {},
   "outputs": [],
   "source": [
    "# Set a pre-determined t0 for the following (running out of time).\n",
    "t0 = 5*10**(-9)"
   ]
  },
  {
   "cell_type": "code",
   "execution_count": 516,
   "metadata": {},
   "outputs": [
    {
     "name": "stdout",
     "output_type": "stream",
     "text": [
      "[[99.99929048769712, 99.99972794255476, 99.99942700132533, 100.0010038525318, 100.00012744993104, 100.00009741341867, 100.00022013981742, 99.99995548821849, 100.00015074333223, 100.0001280135202], [99.99929048769712, 99.99972794255476, 100.00024443087887, 99.9998053314458, 100.00012744993104, 100.00009741341867, 99.99997345228068, 99.99995548821849, 99.99986756428194, 99.99991111232288], [100.0000678211949, 99.99972794255476, 100.00024443087887, 99.9998053314458, 100.00012744993104, 100.00009741341867, 99.99972676474395, 99.99995548821849, 100.00000915380708, 100.00001956292154], [100.0000678211949, 99.99972794255476, 99.9998357161021, 100.0001049617173, 99.99990617938069, 99.9999328117914, 99.99997345228068, 99.99995548821849, 100.00000915380708, 100.00001956292154], [100.0000678211949, 99.99972794255476, 99.9998357161021, 99.9998053314458, 99.99990617938069, 99.9999328117914, 99.99997345228068, 99.99995548821849, 100.00000915380708, 100.00001956292154], [100.0000678211949, 99.99972794255476, 99.9998357161021, 100.0001049617173, 99.99990617938069, 99.9999328117914, 99.99997345228068, 99.99995548821849, 100.00000915380708, 100.00001956292154], [100.0000678211949, 99.99972794255476, 99.9998357161021, 100.0001049617173, 99.99990617938069, 99.9999328117914, 99.99997345228068, 99.99995548821849, 100.00000915380708, 100.00001956292154], [100.0000678211949, 99.99972794255476, 99.9998357161021, 100.0001049617173, 99.99990617938069, 99.9999328117914, 99.99997345228068, 99.99995548821849, 100.00000915380708, 100.00001956292154], [100.0000678211949, 100.0000087428601, 100.00004007349048, 99.99995514658154, 100.00001681465587, 99.9999328117914, 99.99997345228068, 99.99995548821849, 100.00000915380708, 100.00001956292154]]\n"
     ]
    }
   ],
   "source": [
    "# Now look different values of C1 and C2, and determine which ones give the most\n",
    "# precise measurements of amplitude and time.\n",
    "\n",
    "# Rewrite the function above such that one can vary C1 and C2.\n",
    "\n",
    "# Define the output voltage function to be compared with the one given by the\n",
    "# equation (*) above.\n",
    "\n",
    "# I will take \"precise\" as what is closest to the true initial amplitude and intial time t0.\n",
    "# Otherwise, the computer returns numbers with as many decimal places as it sees fit.\n",
    "\n",
    "def Voltage2(i1, q1, q2, C1, t):\n",
    "    R1 = 37; R3 = 100;\n",
    "    V = i1 * R1 + (q1 - q2)/C1\n",
    "    return V\n",
    "\n",
    "# Define the model function(s) to integrate.\n",
    "\n",
    "def EqSys2(q, t):\n",
    "    global t0\n",
    "    R1 = 37; R2 = 37; R3 = 100;\n",
    "    \n",
    "    sigma = 1.3 * 10**(-9)\n",
    "    t0dumm = t0\n",
    "    V = A * np.exp(-(t - t0dumm)**2 / (2 * sigma**2))\n",
    "    q1 = q[0]; q2 = q[1]; q3 = q[2];\n",
    "    C1 = q[3]; C2 = q[4];\n",
    "    \n",
    "    i1 = (V - (q1 - q2)/C1) / R1\n",
    "    i2 = (-(q1 - q2)/C2) / R2\n",
    "    i3 = ((q2 - q3)/C2) / R3\n",
    "    \n",
    "    i = [i1, i2, i3, 0, 0]\n",
    "    return i\n",
    "\n",
    "t = np.linspace(0, 10**(-9), 10) # This is just a time interval that I chose randomly.\n",
    "\n",
    "q10 = 10; q20 = 20; q30 = 15; # these are the initial conditions,\n",
    "                           # which are not provided but can be set up\n",
    "                           # by hand.\n",
    "\n",
    "C1 = np.linspace(1 * 10**(-9), 5 * 10**(-9), 10)\n",
    "C2 = np.linspace(0, 200 * 10**(-12), 10)\n",
    "\n",
    "V2 = [];\n",
    "\n",
    "for i in range(len(C1)-1):\n",
    "    q = odeint(EqSys2, [q10, q20, q30, C1[i+1], C2[i+1]], t)\n",
    "\n",
    "    q1 = q[:,0]; q2 = q[:,1]; q3 = q[:,2];\n",
    "    \n",
    "    i1 = EqSys2([q1, q2, q3, C1[i+1], C2[i+1]], t)[0]\n",
    "    \n",
    "    V2dumm = Voltage2(i1, q1, q2, C1[i+1], t)\n",
    "    V2.append(list(V2dumm))\n",
    "\n",
    "# Now we use the voltages stored in V2 and compare them to the ones generated by\n",
    "# Equation (*) and extract the amplitude and initial time t0 from them, using\n",
    "# A = 10^2.\n",
    "\n",
    "# For now, due to the lack of time, let us assume that we know t0:\n",
    "\n",
    "amplitude_recovered = [];\n",
    "sigma = 1.3 * 10**(-9)\n",
    "\n",
    "for i in range(len(C1) - 1):\n",
    "    Adumm = V2[i] * np.exp((t - t0)**2 / (2 * sigma**2))\n",
    "    amplitude_recovered.append(list(Adumm))\n",
    "    \n",
    "print(amplitude_recovered)\n",
    "\n",
    "# This gives very good results, as the print shows. We would then compare the diference\n",
    "# between A = 100 and the results. To also add the complication of having to find\n",
    "# t0, we would have to generate a lot of numbers in between 0 and 20 nanoseconds,\n",
    "# plug them into a loop, generate amplitude values and compare them to A = 100.\n",
    "# The final difficulty would be to implement this code of an array of different\n",
    "# initial amplitudes. I ran out of time here due to other obligations, but\n",
    "# I tried to outline the process as best as I could!"
   ]
  },
  {
   "cell_type": "code",
   "execution_count": null,
   "metadata": {},
   "outputs": [],
   "source": []
  }
 ],
 "metadata": {
  "kernelspec": {
   "display_name": "Python 3",
   "language": "python",
   "name": "python3"
  },
  "language_info": {
   "codemirror_mode": {
    "name": "ipython",
    "version": 3
   },
   "file_extension": ".py",
   "mimetype": "text/x-python",
   "name": "python",
   "nbconvert_exporter": "python",
   "pygments_lexer": "ipython3",
   "version": "3.6.5"
  }
 },
 "nbformat": 4,
 "nbformat_minor": 2
}
